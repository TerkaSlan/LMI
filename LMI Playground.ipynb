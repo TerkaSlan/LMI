{
 "cells": [
  {
   "cell_type": "markdown",
   "metadata": {},
   "source": [
    "# Learned Metric Index demo notebook\n",
    "This notebook walks you through the whole process of creating and using a Learned Metric Index (LMI).\n",
    "\n",
    "## Steps\n",
    "1. Load the dataset\n",
    "2. Build the LMI\n",
    "3. Run a query\n",
    "4. Find out its k-NN performance"
   ]
  },
  {
   "cell_type": "code",
   "execution_count": 1,
   "metadata": {},
   "outputs": [],
   "source": [
    "%matplotlib inline\n",
    "%load_ext autoreload\n",
    "%autoreload 2"
   ]
  },
  {
   "cell_type": "markdown",
   "metadata": {},
   "source": [
    "## (optional) Download example CoPhIR dataset"
   ]
  },
  {
   "cell_type": "code",
   "execution_count": 4,
   "metadata": {},
   "outputs": [
    {
     "name": "stdout",
     "output_type": "stream",
     "text": [
      "--2021-06-21 10:11:47--  https://www.fi.muni.cz/~xslanin/lmi/knn_gt.json\n",
      "Resolving www.fi.muni.cz (www.fi.muni.cz)... 2001:718:801:230::1, 147.251.48.1\n",
      "Connecting to www.fi.muni.cz (www.fi.muni.cz)|2001:718:801:230::1|:443... connected.\n",
      "HTTP request sent, awaiting response... 200 OK\n",
      "Length: 69449248 (66M) [application/json]\n",
      "Saving to: 'knn_gt.json'\n",
      "\n",
      "knn_gt.json         100%[===================>]  66.23M   109MB/s    in 0.6s    \n",
      "\n",
      "2021-06-21 10:11:48 (109 MB/s) - 'knn_gt.json' saved [69449248/69449248]\n",
      "\n",
      "--2021-06-21 10:11:48--  https://www.fi.muni.cz/~xslanin/lmi/level-1.txt\n",
      "Resolving www.fi.muni.cz (www.fi.muni.cz)... 2001:718:801:230::1, 147.251.48.1\n",
      "Connecting to www.fi.muni.cz (www.fi.muni.cz)|2001:718:801:230::1|:443... connected.\n",
      "HTTP request sent, awaiting response... 200 OK\n",
      "Length: 12387387 (12M) [text/plain]\n",
      "Saving to: 'level-1.txt'\n",
      "\n",
      "level-1.txt         100%[===================>]  11.81M  38.0MB/s    in 0.3s    \n",
      "\n",
      "2021-06-21 10:11:48 (38.0 MB/s) - 'level-1.txt' saved [12387387/12387387]\n",
      "\n",
      "--2021-06-21 10:11:48--  https://www.fi.muni.cz/~xslanin/lmi/level-2.txt\n",
      "Resolving www.fi.muni.cz (www.fi.muni.cz)... 2001:718:801:230::1, 147.251.48.1\n",
      "Connecting to www.fi.muni.cz (www.fi.muni.cz)|2001:718:801:230::1|:443... connected.\n",
      "HTTP request sent, awaiting response... 200 OK\n",
      "Length: 1421061 (1.4M) [text/plain]\n",
      "Saving to: 'level-2.txt'\n",
      "\n",
      "level-2.txt         100%[===================>]   1.35M  --.-KB/s    in 0.02s   \n",
      "\n",
      "2021-06-21 10:11:49 (89.1 MB/s) - 'level-2.txt' saved [1421061/1421061]\n",
      "\n",
      "--2021-06-21 10:11:49--  https://www.fi.muni.cz/~xslanin/lmi/objects.txt\n",
      "Resolving www.fi.muni.cz (www.fi.muni.cz)... 2001:718:801:230::1, 147.251.48.1\n",
      "Connecting to www.fi.muni.cz (www.fi.muni.cz)|2001:718:801:230::1|:443... connected.\n",
      "HTTP request sent, awaiting response... 200 OK\n",
      "Length: 118537724 (113M) [text/plain]\n",
      "Saving to: 'objects.txt'\n",
      "\n",
      "objects.txt         100%[===================>] 113.05M   110MB/s    in 1.0s    \n",
      "\n",
      "2021-06-21 10:11:51 (110 MB/s) - 'objects.txt' saved [118537724/118537724]\n",
      "\n"
     ]
    }
   ],
   "source": [
    "!./download_data.sh"
   ]
  },
  {
   "cell_type": "markdown",
   "metadata": {},
   "source": [
    "### Creating an LMI instance\n",
    "`LMI` is the basic object to inveract with when working with Learned indexes. It contains operations for:\n",
    "- loading the dataset\n",
    "- interface for training with various classifiers\n",
    "- interface for searching"
   ]
  },
  {
   "cell_type": "code",
   "execution_count": 2,
   "metadata": {},
   "outputs": [
    {
     "name": "stdout",
     "output_type": "stream",
     "text": [
      "Loading CoPhIR dataset.\n"
     ]
    },
    {
     "name": "stderr",
     "output_type": "stream",
     "text": [
      "21-06-21 09:27 INFO: Loaded dataset of shape: (100000, 285)\n"
     ]
    },
    {
     "data": {
      "text/html": [
       "<div>\n",
       "<style scoped>\n",
       "    .dataframe tbody tr th:only-of-type {\n",
       "        vertical-align: middle;\n",
       "    }\n",
       "\n",
       "    .dataframe tbody tr th {\n",
       "        vertical-align: top;\n",
       "    }\n",
       "\n",
       "    .dataframe thead th {\n",
       "        text-align: right;\n",
       "    }\n",
       "</style>\n",
       "<table border=\"1\" class=\"dataframe\">\n",
       "  <thead>\n",
       "    <tr style=\"text-align: right;\">\n",
       "      <th></th>\n",
       "      <th>L1</th>\n",
       "      <th>L2</th>\n",
       "      <th>object_id</th>\n",
       "      <th>0</th>\n",
       "      <th>1</th>\n",
       "      <th>2</th>\n",
       "      <th>3</th>\n",
       "      <th>4</th>\n",
       "      <th>5</th>\n",
       "      <th>6</th>\n",
       "      <th>...</th>\n",
       "      <th>272</th>\n",
       "      <th>273</th>\n",
       "      <th>274</th>\n",
       "      <th>275</th>\n",
       "      <th>276</th>\n",
       "      <th>277</th>\n",
       "      <th>278</th>\n",
       "      <th>279</th>\n",
       "      <th>280</th>\n",
       "      <th>281</th>\n",
       "    </tr>\n",
       "  </thead>\n",
       "  <tbody>\n",
       "    <tr>\n",
       "      <th>0</th>\n",
       "      <td>8</td>\n",
       "      <td>31</td>\n",
       "      <td>1264121</td>\n",
       "      <td>-1.242989</td>\n",
       "      <td>0.183268</td>\n",
       "      <td>0.226676</td>\n",
       "      <td>-0.915374</td>\n",
       "      <td>0.252619</td>\n",
       "      <td>-1.130569</td>\n",
       "      <td>-1.174948</td>\n",
       "      <td>...</td>\n",
       "      <td>0.376475</td>\n",
       "      <td>0.246309</td>\n",
       "      <td>-1.161265</td>\n",
       "      <td>0.238361</td>\n",
       "      <td>0.191588</td>\n",
       "      <td>0.133651</td>\n",
       "      <td>0.191612</td>\n",
       "      <td>0.181059</td>\n",
       "      <td>0.071334</td>\n",
       "      <td>0.292033</td>\n",
       "    </tr>\n",
       "    <tr>\n",
       "      <th>1</th>\n",
       "      <td>8</td>\n",
       "      <td>31</td>\n",
       "      <td>1269339</td>\n",
       "      <td>-1.499727</td>\n",
       "      <td>-0.376083</td>\n",
       "      <td>-0.169159</td>\n",
       "      <td>-0.178085</td>\n",
       "      <td>-1.059864</td>\n",
       "      <td>1.100678</td>\n",
       "      <td>-0.675192</td>\n",
       "      <td>...</td>\n",
       "      <td>0.376475</td>\n",
       "      <td>0.246309</td>\n",
       "      <td>-0.912330</td>\n",
       "      <td>0.648106</td>\n",
       "      <td>0.191588</td>\n",
       "      <td>0.133651</td>\n",
       "      <td>0.191612</td>\n",
       "      <td>0.181059</td>\n",
       "      <td>0.071334</td>\n",
       "      <td>-0.206513</td>\n",
       "    </tr>\n",
       "  </tbody>\n",
       "</table>\n",
       "<p>2 rows × 285 columns</p>\n",
       "</div>"
      ],
      "text/plain": [
       "   L1  L2  object_id         0         1         2         3         4  \\\n",
       "0   8  31    1264121 -1.242989  0.183268  0.226676 -0.915374  0.252619   \n",
       "1   8  31    1269339 -1.499727 -0.376083 -0.169159 -0.178085 -1.059864   \n",
       "\n",
       "          5         6  ...       272       273       274       275       276  \\\n",
       "0 -1.130569 -1.174948  ...  0.376475  0.246309 -1.161265  0.238361  0.191588   \n",
       "1  1.100678 -0.675192  ...  0.376475  0.246309 -0.912330  0.648106  0.191588   \n",
       "\n",
       "        277       278       279       280       281  \n",
       "0  0.133651  0.191612  0.181059  0.071334  0.292033  \n",
       "1  0.133651  0.191612  0.181059  0.071334 -0.206513  \n",
       "\n",
       "[2 rows x 285 columns]"
      ]
     },
     "execution_count": 2,
     "metadata": {},
     "output_type": "execute_result"
    }
   ],
   "source": [
    "from LMI import LMI\n",
    "# specify the path with the Mtree data.\n",
    "li = LMI(\"./Mtree-Cophir-100k\")\n",
    "df = li.get_dataset()\n",
    "df.head(2)"
   ]
  },
  {
   "cell_type": "markdown",
   "metadata": {},
   "source": [
    "The dataset is composed of labels (`L1`, `L2`), identifiers (`object_id`) and numberical data. This data are the normalized descriptors of M-tree CoPhIR dataset. Labels describe the object location within the M-tree - `L1`-th node in the first level and `L2`-th node in the second level."
   ]
  },
  {
   "cell_type": "markdown",
   "metadata": {},
   "source": [
    "### Build the LMI (Training phase)\n",
    "Training is goverened by the `train()` method in `LMI`. In order to specify the classifiers to use and their basic hyperparameters, you should provide it with `training_specs` dictionary. Currently supported classifiers and their parameters together with exaplanations can be found in the following tables:\n",
    "\n",
    "| classifier | Hyp. 1 | Hyp. 2 |\n",
    "|------------|--------|--------|\n",
    "| RF         | depth  | n_est  |\n",
    "| LogReg     | ep     |        |\n",
    "| NN         | model  | opt    |\n",
    "| NNMulti    | model  | opt    \n",
    "\n",
    "| classifier                 | Hyperparameter 1                                       | Hyperparameter 2                                |\n",
    "|----------------------------|----------------------------------------------|---------------------------------------|\n",
    "| RandomForestClassifier     | max_depth of the trees                       | number of trees                       |\n",
    "| Logistic Regression        | number of epochs                             |                                       |\n",
    "| Neural networks            | a classifier function (one of networks.py) | optimizer (one of keras.optimizers) |\n",
    "| Multilabel neural networks | a classifier function (one of networks.py) | optimizer (one of keras.optimizers) |"
   ]
  },
  {
   "cell_type": "code",
   "execution_count": 3,
   "metadata": {},
   "outputs": [
    {
     "name": "stderr",
     "output_type": "stream",
     "text": [
      "Using TensorFlow backend.\n",
      "21-06-21 09:28 INFO: Training NN with model: <function construct_fully_connected_model_282_128 at 0x14bb6ddd8e18>, optimizer: <keras.optimizers.Adam object at 0x14bbabb30da0> and epochs: 1\n",
      "21-06-21 09:28 INFO: [282]-[128] model\n"
     ]
    },
    {
     "name": "stdout",
     "output_type": "stream",
     "text": [
      "Epoch 1/1\n",
      "100000/100000 [==============================] - 17s 166us/step - loss: 1.5669 - accuracy: 0.4577\n"
     ]
    },
    {
     "name": "stderr",
     "output_type": "stream",
     "text": [
      "21-06-21 09:29 INFO: Training level 1\n",
      "21-06-21 09:29 INFO: Training NN with model: <function construct_mlp at 0x14bb6ddd8730>, optimizer: <keras.optimizers.Adam object at 0x14bbabb30e10> and epochs: 5\n"
     ]
    },
    {
     "name": "stdout",
     "output_type": "stream",
     "text": [
      "Epoch 1/5\n",
      "4992/4992 [==============================] - 0s 88us/step - loss: 4.7991 - accuracy: 0.0228\n",
      "Epoch 2/5\n",
      "4992/4992 [==============================] - 0s 69us/step - loss: 4.2291 - accuracy: 0.0689\n",
      "Epoch 3/5\n",
      "4992/4992 [==============================] - 0s 59us/step - loss: 3.7923 - accuracy: 0.1144\n",
      "Epoch 4/5\n",
      "4992/4992 [==============================] - 0s 52us/step - loss: 3.4031 - accuracy: 0.1552\n",
      "Epoch 5/5\n",
      "4992/4992 [==============================] - 0s 55us/step - loss: 3.1100 - accuracy: 0.1939\n"
     ]
    },
    {
     "name": "stderr",
     "output_type": "stream",
     "text": [
      "21-06-21 09:29 INFO: Training NN with model: <function construct_mlp at 0x14bb6ddd8730>, optimizer: <keras.optimizers.Adam object at 0x14bbabb30e10> and epochs: 5\n"
     ]
    },
    {
     "name": "stdout",
     "output_type": "stream",
     "text": [
      "Epoch 1/5\n",
      "4334/4334 [==============================] - 0s 83us/step - loss: 4.7416 - accuracy: 0.0215\n",
      "Epoch 2/5\n",
      "4334/4334 [==============================] - 0s 50us/step - loss: 4.0499 - accuracy: 0.0648\n",
      "Epoch 3/5\n",
      "4334/4334 [==============================] - 0s 49us/step - loss: 3.5657 - accuracy: 0.1191\n",
      "Epoch 4/5\n",
      "4334/4334 [==============================] - 0s 50us/step - loss: 3.1531 - accuracy: 0.1643\n",
      "Epoch 5/5\n",
      "4334/4334 [==============================] - 0s 49us/step - loss: 2.8437 - accuracy: 0.2072\n"
     ]
    },
    {
     "name": "stderr",
     "output_type": "stream",
     "text": [
      "21-06-21 09:29 INFO: Training NN with model: <function construct_mlp at 0x14bb6ddd8730>, optimizer: <keras.optimizers.Adam object at 0x14bbabb30e10> and epochs: 5\n"
     ]
    },
    {
     "name": "stdout",
     "output_type": "stream",
     "text": [
      "Epoch 1/5\n",
      "3477/3477 [==============================] - 0s 84us/step - loss: 4.7595 - accuracy: 0.0394\n",
      "Epoch 2/5\n",
      "3477/3477 [==============================] - 0s 53us/step - loss: 3.8955 - accuracy: 0.0917\n",
      "Epoch 3/5\n",
      "3477/3477 [==============================] - 0s 51us/step - loss: 3.3200 - accuracy: 0.1516\n",
      "Epoch 4/5\n",
      "3477/3477 [==============================] - 0s 54us/step - loss: 2.8914 - accuracy: 0.2022\n",
      "Epoch 5/5\n",
      "3477/3477 [==============================] - 0s 62us/step - loss: 2.5765 - accuracy: 0.2502\n"
     ]
    },
    {
     "name": "stderr",
     "output_type": "stream",
     "text": [
      "21-06-21 09:29 INFO: Training NN with model: <function construct_mlp at 0x14bb6ddd8730>, optimizer: <keras.optimizers.Adam object at 0x14bbabb30e10> and epochs: 5\n"
     ]
    },
    {
     "name": "stdout",
     "output_type": "stream",
     "text": [
      "Epoch 1/5\n",
      "5990/5990 [==============================] - 0s 77us/step - loss: 4.6661 - accuracy: 0.0260\n",
      "Epoch 2/5\n",
      "5990/5990 [==============================] - 0s 61us/step - loss: 4.0094 - accuracy: 0.0885\n",
      "Epoch 3/5\n",
      "5990/5990 [==============================] - 0s 54us/step - loss: 3.5763 - accuracy: 0.1419\n",
      "Epoch 4/5\n",
      "5990/5990 [==============================] - 0s 64us/step - loss: 3.2514 - accuracy: 0.1907\n",
      "Epoch 5/5\n",
      "5990/5990 [==============================] - 0s 58us/step - loss: 2.9975 - accuracy: 0.2349\n"
     ]
    },
    {
     "name": "stderr",
     "output_type": "stream",
     "text": [
      "21-06-21 09:29 INFO: Training NN with model: <function construct_mlp at 0x14bb6ddd8730>, optimizer: <keras.optimizers.Adam object at 0x14bbabb30e10> and epochs: 5\n"
     ]
    },
    {
     "name": "stdout",
     "output_type": "stream",
     "text": [
      "Epoch 1/5\n",
      "8529/8529 [==============================] - 1s 93us/step - loss: 4.2204 - accuracy: 0.0932\n",
      "Epoch 2/5\n",
      "8529/8529 [==============================] - 0s 56us/step - loss: 3.4884 - accuracy: 0.1833\n",
      "Epoch 3/5\n",
      "8529/8529 [==============================] - 0s 52us/step - loss: 3.1068 - accuracy: 0.2358\n",
      "Epoch 4/5\n",
      "8529/8529 [==============================] - 0s 58us/step - loss: 2.8601 - accuracy: 0.2738\n",
      "Epoch 5/5\n",
      "8529/8529 [==============================] - 0s 56us/step - loss: 2.6798 - accuracy: 0.3033\n"
     ]
    },
    {
     "name": "stderr",
     "output_type": "stream",
     "text": [
      "21-06-21 09:29 INFO: Training NN with model: <function construct_mlp at 0x14bb6ddd8730>, optimizer: <keras.optimizers.Adam object at 0x14bbabb30e10> and epochs: 5\n"
     ]
    },
    {
     "name": "stdout",
     "output_type": "stream",
     "text": [
      "Epoch 1/5\n",
      "6228/6228 [==============================] - 1s 82us/step - loss: 4.6176 - accuracy: 0.0295\n",
      "Epoch 2/5\n",
      "6228/6228 [==============================] - 0s 53us/step - loss: 4.0527 - accuracy: 0.0933\n",
      "Epoch 3/5\n",
      "6228/6228 [==============================] - 0s 53us/step - loss: 3.6107 - accuracy: 0.1435\n",
      "Epoch 4/5\n",
      "6228/6228 [==============================] - 0s 54us/step - loss: 3.2580 - accuracy: 0.1855\n",
      "Epoch 5/5\n",
      "6228/6228 [==============================] - 0s 51us/step - loss: 2.9656 - accuracy: 0.2224\n"
     ]
    },
    {
     "name": "stderr",
     "output_type": "stream",
     "text": [
      "21-06-21 09:29 INFO: Training NN with model: <function construct_mlp at 0x14bb6ddd8730>, optimizer: <keras.optimizers.Adam object at 0x14bbabb30e10> and epochs: 5\n"
     ]
    },
    {
     "name": "stdout",
     "output_type": "stream",
     "text": [
      "Epoch 1/5\n",
      "6272/6272 [==============================] - 1s 108us/step - loss: 4.5321 - accuracy: 0.0533\n",
      "Epoch 2/5\n",
      "6272/6272 [==============================] - 0s 63us/step - loss: 3.7186 - accuracy: 0.1320\n",
      "Epoch 3/5\n",
      "6272/6272 [==============================] - 0s 57us/step - loss: 3.2780 - accuracy: 0.1926\n",
      "Epoch 4/5\n",
      "6272/6272 [==============================] - 0s 54us/step - loss: 2.9372 - accuracy: 0.2371\n",
      "Epoch 5/5\n",
      "6272/6272 [==============================] - 0s 64us/step - loss: 2.6953 - accuracy: 0.2752\n"
     ]
    },
    {
     "name": "stderr",
     "output_type": "stream",
     "text": [
      "21-06-21 09:29 INFO: Training NN with model: <function construct_mlp at 0x14bb6ddd8730>, optimizer: <keras.optimizers.Adam object at 0x14bbabb30e10> and epochs: 5\n"
     ]
    },
    {
     "name": "stdout",
     "output_type": "stream",
     "text": [
      "Epoch 1/5\n",
      "6825/6825 [==============================] - 1s 86us/step - loss: 4.6232 - accuracy: 0.0413\n",
      "Epoch 2/5\n",
      "6825/6825 [==============================] - 0s 54us/step - loss: 3.8762 - accuracy: 0.0932\n",
      "Epoch 3/5\n",
      "6825/6825 [==============================] - 0s 63us/step - loss: 3.3600 - accuracy: 0.1455\n",
      "Epoch 4/5\n",
      "6825/6825 [==============================] - 0s 54us/step - loss: 2.9618 - accuracy: 0.1906\n",
      "Epoch 5/5\n",
      "6825/6825 [==============================] - 0s 53us/step - loss: 2.6840 - accuracy: 0.2315\n"
     ]
    },
    {
     "name": "stderr",
     "output_type": "stream",
     "text": [
      "21-06-21 09:29 INFO: Training NN with model: <function construct_mlp at 0x14bb6ddd8730>, optimizer: <keras.optimizers.Adam object at 0x14bbabb30e10> and epochs: 5\n"
     ]
    },
    {
     "name": "stdout",
     "output_type": "stream",
     "text": [
      "Epoch 1/5\n",
      "9420/9420 [==============================] - 1s 83us/step - loss: 4.4964 - accuracy: 0.0567\n",
      "Epoch 2/5\n",
      "9420/9420 [==============================] - 0s 53us/step - loss: 3.7872 - accuracy: 0.1345\n",
      "Epoch 3/5\n",
      "9420/9420 [==============================] - 1s 57us/step - loss: 3.3882 - accuracy: 0.1881\n",
      "Epoch 4/5\n",
      "9420/9420 [==============================] - 1s 61us/step - loss: 3.1107 - accuracy: 0.2239\n",
      "Epoch 5/5\n",
      "9420/9420 [==============================] - 1s 62us/step - loss: 2.8891 - accuracy: 0.2516\n"
     ]
    },
    {
     "name": "stderr",
     "output_type": "stream",
     "text": [
      "21-06-21 09:29 INFO: Training NN with model: <function construct_mlp at 0x14bb6ddd8730>, optimizer: <keras.optimizers.Adam object at 0x14bbabb30e10> and epochs: 5\n"
     ]
    },
    {
     "name": "stdout",
     "output_type": "stream",
     "text": [
      "Epoch 1/5\n",
      "7520/7520 [==============================] - 1s 72us/step - loss: 4.5580 - accuracy: 0.0836\n",
      "Epoch 2/5\n",
      "7520/7520 [==============================] - 0s 57us/step - loss: 3.6514 - accuracy: 0.1492\n",
      "Epoch 3/5\n",
      "7520/7520 [==============================] - 1s 84us/step - loss: 3.1140 - accuracy: 0.1932\n",
      "Epoch 4/5\n",
      "7520/7520 [==============================] - 1s 68us/step - loss: 2.8153 - accuracy: 0.2346\n",
      "Epoch 5/5\n",
      "7520/7520 [==============================] - 0s 55us/step - loss: 2.5863 - accuracy: 0.2629\n"
     ]
    },
    {
     "name": "stderr",
     "output_type": "stream",
     "text": [
      "21-06-21 09:29 INFO: Training NN with model: <function construct_mlp at 0x14bb6ddd8730>, optimizer: <keras.optimizers.Adam object at 0x14bbabb30e10> and epochs: 5\n"
     ]
    },
    {
     "name": "stdout",
     "output_type": "stream",
     "text": [
      "Epoch 1/5\n",
      "8351/8351 [==============================] - 1s 85us/step - loss: 4.7712 - accuracy: 0.0466\n",
      "Epoch 2/5\n",
      "8351/8351 [==============================] - 1s 65us/step - loss: 3.9338 - accuracy: 0.0997\n",
      "Epoch 3/5\n",
      "8351/8351 [==============================] - 0s 55us/step - loss: 3.5412 - accuracy: 0.1459\n",
      "Epoch 4/5\n",
      "8351/8351 [==============================] - 0s 53us/step - loss: 3.1977 - accuracy: 0.1819\n",
      "Epoch 5/5\n",
      "8351/8351 [==============================] - 0s 52us/step - loss: 2.9727 - accuracy: 0.2123\n"
     ]
    },
    {
     "name": "stderr",
     "output_type": "stream",
     "text": [
      "21-06-21 09:29 INFO: Training NN with model: <function construct_mlp at 0x14bb6ddd8730>, optimizer: <keras.optimizers.Adam object at 0x14bbabb30e10> and epochs: 5\n"
     ]
    },
    {
     "name": "stdout",
     "output_type": "stream",
     "text": [
      "Epoch 1/5\n",
      "7613/7613 [==============================] - 0s 65us/step - loss: 4.7117 - accuracy: 0.0380\n",
      "Epoch 2/5\n",
      "7613/7613 [==============================] - 0s 49us/step - loss: 4.0629 - accuracy: 0.0888\n",
      "Epoch 3/5\n",
      "7613/7613 [==============================] - 0s 49us/step - loss: 3.6097 - accuracy: 0.1174\n",
      "Epoch 4/5\n",
      "7613/7613 [==============================] - 0s 55us/step - loss: 3.3353 - accuracy: 0.1529\n",
      "Epoch 5/5\n",
      "7613/7613 [==============================] - 0s 53us/step - loss: 3.0792 - accuracy: 0.1856\n"
     ]
    },
    {
     "name": "stderr",
     "output_type": "stream",
     "text": [
      "21-06-21 09:29 INFO: Training NN with model: <function construct_mlp at 0x14bb6ddd8730>, optimizer: <keras.optimizers.Adam object at 0x14bbabb30e10> and epochs: 5\n"
     ]
    },
    {
     "name": "stdout",
     "output_type": "stream",
     "text": [
      "Epoch 1/5\n",
      "6045/6045 [==============================] - 0s 80us/step - loss: 4.7857 - accuracy: 0.0337\n",
      "Epoch 2/5\n",
      "6045/6045 [==============================] - 0s 63us/step - loss: 4.0825 - accuracy: 0.0771\n",
      "Epoch 3/5\n",
      "6045/6045 [==============================] - 0s 62us/step - loss: 3.6523 - accuracy: 0.1163\n",
      "Epoch 4/5\n",
      "6045/6045 [==============================] - 0s 54us/step - loss: 3.3480 - accuracy: 0.1476\n",
      "Epoch 5/5\n",
      "6045/6045 [==============================] - 0s 61us/step - loss: 3.0678 - accuracy: 0.1755\n"
     ]
    },
    {
     "name": "stderr",
     "output_type": "stream",
     "text": [
      "21-06-21 09:29 INFO: Training NN with model: <function construct_mlp at 0x14bb6ddd8730>, optimizer: <keras.optimizers.Adam object at 0x14bbabb30e10> and epochs: 5\n"
     ]
    },
    {
     "name": "stdout",
     "output_type": "stream",
     "text": [
      "Epoch 1/5\n",
      "6232/6232 [==============================] - 1s 88us/step - loss: 4.6187 - accuracy: 0.0459\n",
      "Epoch 2/5\n",
      "6232/6232 [==============================] - 1s 80us/step - loss: 3.8210 - accuracy: 0.1091\n",
      "Epoch 3/5\n",
      "6232/6232 [==============================] - 0s 66us/step - loss: 3.3342 - accuracy: 0.1531\n",
      "Epoch 4/5\n",
      "6232/6232 [==============================] - 0s 58us/step - loss: 2.9522 - accuracy: 0.1991\n",
      "Epoch 5/5\n",
      "6232/6232 [==============================] - 0s 54us/step - loss: 2.6650 - accuracy: 0.2240\n"
     ]
    },
    {
     "name": "stderr",
     "output_type": "stream",
     "text": [
      "21-06-21 09:29 INFO: Training NN with model: <function construct_mlp at 0x14bb6ddd8730>, optimizer: <keras.optimizers.Adam object at 0x14bbabb30e10> and epochs: 5\n"
     ]
    },
    {
     "name": "stdout",
     "output_type": "stream",
     "text": [
      "Epoch 1/5\n",
      "8172/8172 [==============================] - 1s 83us/step - loss: 4.5341 - accuracy: 0.0423\n",
      "Epoch 2/5\n",
      "8172/8172 [==============================] - 1s 68us/step - loss: 3.9339 - accuracy: 0.1006\n",
      "Epoch 3/5\n",
      "8172/8172 [==============================] - 0s 60us/step - loss: 3.5297 - accuracy: 0.1384\n",
      "Epoch 4/5\n",
      "8172/8172 [==============================] - 0s 60us/step - loss: 3.2346 - accuracy: 0.1765\n",
      "Epoch 5/5\n",
      "8172/8172 [==============================] - 0s 54us/step - loss: 3.0174 - accuracy: 0.2063\n"
     ]
    }
   ],
   "source": [
    "from networks import Adam, construct_fully_connected_model_282_128, construct_mlp\n",
    "#training_specs = {\"RF\": [{\"n_est\": 100, \"depth\": 30}, {\"n_est\": 100, \"depth\": 30}]}\n",
    "#training_specs = {\"LogReg\": [{\"ep\": 10}, {\"ep\": 10}]}\n",
    "training_specs = {\"NN\": [{\"model\": construct_fully_connected_model_282_128, \"opt\": Adam(learning_rate=0.0001), \"ep\": 1}, \\\n",
    "                         {\"model\": construct_mlp, \"opt\": Adam(learning_rate=0.001), \"ep\":5}]}\n",
    "\n",
    "df_result = li.train(df, training_specs)"
   ]
  },
  {
   "cell_type": "markdown",
   "metadata": {},
   "source": [
    "The training logs will inform you what level/node is being trained, and, in case of NNs, their accuracy as they're trained. Note that since we trian on the whole dataset we do not use any validation dataset."
   ]
  },
  {
   "cell_type": "markdown",
   "metadata": {},
   "source": [
    "### Searching\n",
    "\n",
    "Once we've trained the LMI, we can search for specific objects within the LMI."
   ]
  },
  {
   "cell_type": "code",
   "execution_count": 5,
   "metadata": {},
   "outputs": [
    {
     "data": {
      "text/html": [
       "<div>\n",
       "<style scoped>\n",
       "    .dataframe tbody tr th:only-of-type {\n",
       "        vertical-align: middle;\n",
       "    }\n",
       "\n",
       "    .dataframe tbody tr th {\n",
       "        vertical-align: top;\n",
       "    }\n",
       "\n",
       "    .dataframe thead th {\n",
       "        text-align: right;\n",
       "    }\n",
       "</style>\n",
       "<table border=\"1\" class=\"dataframe\">\n",
       "  <thead>\n",
       "    <tr style=\"text-align: right;\">\n",
       "      <th></th>\n",
       "      <th>L1_pred</th>\n",
       "      <th>L2_pred</th>\n",
       "      <th>L1</th>\n",
       "      <th>L2</th>\n",
       "      <th>object_id</th>\n",
       "      <th>0</th>\n",
       "      <th>1</th>\n",
       "      <th>2</th>\n",
       "      <th>3</th>\n",
       "      <th>4</th>\n",
       "      <th>...</th>\n",
       "      <th>272</th>\n",
       "      <th>273</th>\n",
       "      <th>274</th>\n",
       "      <th>275</th>\n",
       "      <th>276</th>\n",
       "      <th>277</th>\n",
       "      <th>278</th>\n",
       "      <th>279</th>\n",
       "      <th>280</th>\n",
       "      <th>281</th>\n",
       "    </tr>\n",
       "  </thead>\n",
       "  <tbody>\n",
       "    <tr>\n",
       "      <th>0</th>\n",
       "      <td>2</td>\n",
       "      <td>5</td>\n",
       "      <td>4</td>\n",
       "      <td>17</td>\n",
       "      <td>33010998</td>\n",
       "      <td>0.383016</td>\n",
       "      <td>-0.003183</td>\n",
       "      <td>-0.037214</td>\n",
       "      <td>-0.362407</td>\n",
       "      <td>-0.009878</td>\n",
       "      <td>...</td>\n",
       "      <td>-2.944586</td>\n",
       "      <td>-1.868269</td>\n",
       "      <td>0.581277</td>\n",
       "      <td>-0.581129</td>\n",
       "      <td>-3.545258</td>\n",
       "      <td>0.133651</td>\n",
       "      <td>0.191612</td>\n",
       "      <td>-2.053544</td>\n",
       "      <td>-11.183034</td>\n",
       "      <td>0.292033</td>\n",
       "    </tr>\n",
       "    <tr>\n",
       "      <th>1</th>\n",
       "      <td>9</td>\n",
       "      <td>52</td>\n",
       "      <td>9</td>\n",
       "      <td>40</td>\n",
       "      <td>12893856</td>\n",
       "      <td>0.639753</td>\n",
       "      <td>-0.562534</td>\n",
       "      <td>-0.301103</td>\n",
       "      <td>0.190560</td>\n",
       "      <td>-0.009878</td>\n",
       "      <td>...</td>\n",
       "      <td>-0.038657</td>\n",
       "      <td>0.850474</td>\n",
       "      <td>-1.161265</td>\n",
       "      <td>-0.990875</td>\n",
       "      <td>0.191588</td>\n",
       "      <td>0.133651</td>\n",
       "      <td>0.191612</td>\n",
       "      <td>0.181059</td>\n",
       "      <td>0.071334</td>\n",
       "      <td>-3.696336</td>\n",
       "    </tr>\n",
       "  </tbody>\n",
       "</table>\n",
       "<p>2 rows × 287 columns</p>\n",
       "</div>"
      ],
      "text/plain": [
       "   L1_pred  L2_pred  L1  L2  object_id         0         1         2  \\\n",
       "0        2        5   4  17   33010998  0.383016 -0.003183 -0.037214   \n",
       "1        9       52   9  40   12893856  0.639753 -0.562534 -0.301103   \n",
       "\n",
       "          3         4  ...       272       273       274       275       276  \\\n",
       "0 -0.362407 -0.009878  ... -2.944586 -1.868269  0.581277 -0.581129 -3.545258   \n",
       "1  0.190560 -0.009878  ... -0.038657  0.850474 -1.161265 -0.990875  0.191588   \n",
       "\n",
       "        277       278       279        280       281  \n",
       "0  0.133651  0.191612 -2.053544 -11.183034  0.292033  \n",
       "1  0.133651  0.191612  0.181059   0.071334 -3.696336  \n",
       "\n",
       "[2 rows x 287 columns]"
      ]
     },
     "execution_count": 5,
     "metadata": {},
     "output_type": "execute_result"
    }
   ],
   "source": [
    "df_result.head(2)"
   ]
  },
  {
   "cell_type": "code",
   "execution_count": 7,
   "metadata": {},
   "outputs": [],
   "source": [
    "knn_file = f\"./Mtree-Cophir-100k/knn_gt.json\"\n",
    "knns = li.get_knn_ground_truth(filename=knn_file)\n",
    "# Random 1000 queries selection used in experiments\n",
    "searchable_objects = list(knns.keys())"
   ]
  },
  {
   "cell_type": "code",
   "execution_count": 8,
   "metadata": {},
   "outputs": [
    {
     "name": "stderr",
     "output_type": "stream",
     "text": [
      "21-06-21 09:40 INFO: Step 1: L1 added - PQ: [{'M.1.11': 0.5279014}, {'M.1.10': 0.1612377}, {'M.1.3': 0.15023968}, {'M.1.1': 0.038018044}, {'M.1.6': 0.03512803}, {'M.1.2': 0.022543093}, {'M.1.4': 0.020606503}, {'M.1.14': 0.019741502}, {'M.1.13': 0.0094071}, {'M.1.7': 0.00542337}, {'M.1.9': 0.003200936}, {'M.1.8': 0.002571476}, {'M.1.12': 0.0016359027}, {'M.1.5': 0.0015120244}, {'M.1.15': 0.00079491455}, {'M.1.15': 3.8224003e-05}]\n",
      "\n",
      "21-06-21 09:40 INFO: Popped M.1.11\n",
      "21-06-21 09:40 INFO: L2 added - PQ (Top 5): [{'M.1.10': 0.1612377}, {'M.1.3': 0.15023968}, {'C.1.11.54': 0.07336822}, {'C.1.11.46': 0.053007253}, {'C.1.11.27': 0.042159732}]\n",
      "\n",
      "21-06-21 09:40 INFO: Popped M.1.10\n",
      "21-06-21 09:40 INFO: L2 added - PQ (Top 5): [{'C.1.10.38': 0.17170843}, {'M.1.3': 0.15023968}, {'C.1.10.64': 0.13056695}, {'C.1.10.45': 0.12038053}, {'C.1.11.54': 0.07336822}]\n",
      "\n",
      "21-06-21 09:40 INFO: L2 found bucket C.1.10.38\n",
      "21-06-21 09:40 INFO: Popped M.1.3\n",
      "21-06-21 09:40 INFO: L2 added - PQ (Top 5): [{'C.1.10.64': 0.13056695}, {'C.1.10.45': 0.12038053}, {'C.1.11.54': 0.07336822}, {'C.1.10.27': 0.057760064}, {'C.1.11.46': 0.053007253}]\n",
      "\n",
      "21-06-21 09:40 INFO: L2 found bucket C.1.10.64\n",
      "21-06-21 09:40 INFO: L2 found bucket C.1.10.45\n",
      "21-06-21 09:40 INFO: L2 found bucket C.1.11.54\n",
      "21-06-21 09:40 INFO: L2 found bucket C.1.10.27\n",
      "21-06-21 09:40 INFO: L2 found bucket C.1.11.46\n",
      "21-06-21 09:40 INFO: L2 found bucket C.1.10.41\n",
      "21-06-21 09:40 INFO: L2 found bucket C.1.10.4\n",
      "21-06-21 09:40 INFO: L2 found bucket C.1.11.27\n",
      "21-06-21 09:40 INFO: L2 found bucket C.1.3.67\n",
      "21-06-21 09:40 INFO: L2 found bucket C.1.11.88\n",
      "21-06-21 09:40 INFO: L2 found bucket C.1.3.30\n"
     ]
    },
    {
     "data": {
      "text/plain": [
       "{'id': 79691776,\n",
       " 'time_checkpoints': [0.110809326171875, 0.11352705955505371],\n",
       " 'popped_nodes_checkpoints': [['M.1.11',\n",
       "   'M.1.10',\n",
       "   'C.1.10.38',\n",
       "   'M.1.3',\n",
       "   'C.1.10.64',\n",
       "   'C.1.10.45',\n",
       "   'C.1.11.54',\n",
       "   'C.1.10.27',\n",
       "   'C.1.11.46'],\n",
       "  ['M.1.11',\n",
       "   'M.1.10',\n",
       "   'C.1.10.38',\n",
       "   'M.1.3',\n",
       "   'C.1.10.64',\n",
       "   'C.1.10.45',\n",
       "   'C.1.11.54',\n",
       "   'C.1.10.27',\n",
       "   'C.1.11.46',\n",
       "   'C.1.10.41',\n",
       "   'C.1.10.4',\n",
       "   'C.1.11.27',\n",
       "   'C.1.3.67',\n",
       "   'C.1.11.88',\n",
       "   'C.1.3.30']],\n",
       " 'objects_checkpoints': [575, 1004]}"
      ]
     },
     "execution_count": 8,
     "metadata": {},
     "output_type": "execute_result"
    }
   ],
   "source": [
    "result = li.search(df_result, int(searchable_objects[0]), stop_cond_objects=[500, 1000], debug=True)\n",
    "result"
   ]
  },
  {
   "cell_type": "markdown",
   "metadata": {},
   "source": [
    "If `debug=True` is specified when searching, the logging will guide us through the whole process of searching.\n",
    "Beginning in the default step of popping the root node and collecting probabilities for nodes in the first level (`Step 1: L1 added`), to popping the nodes in the first level and collecting probs. of their children all the way to popping the buckets themselves.\n",
    "\n",
    "The return value of the `search` operation is the following:\n",
    "- `id` for node id (= `object_id`)\n",
    "- `time_checkpoints` time (in s) it took to find the corresponding checkpoints\n",
    "- `popped_nodes_checkpoints` - the nodes that managed to be popped till their collective sum of objects did not overstep the corresponding `stop_cond_objects` threshold\n",
    "- `objects_checkpoints` - the actual sum of all found objects following `stop_cond_objects`. Is slightly higher than `stop_cond_objects`"
   ]
  },
  {
   "cell_type": "markdown",
   "metadata": {},
   "source": [
    "### k-NN ground truth\n",
    "\n",
    "The following output shows the ground truth buckets for every nearest neighbor of our query. The k-NN recall is computed as the number of objects in the visited buckets over the 30 overall objects."
   ]
  },
  {
   "cell_type": "code",
   "execution_count": 10,
   "metadata": {},
   "outputs": [
    {
     "data": {
      "text/plain": [
       "{'C.1.11.54': ['79691776', '13124750', '38444959', '45290554', '25651444'],\n",
       " 'C.1.10.42': ['13489284', '30008633'],\n",
       " 'C.1.3.55': ['32097677'],\n",
       " 'C.1.3.34': ['49155309', '99892584'],\n",
       " 'C.1.10.4': ['53819024'],\n",
       " 'C.1.10.41': ['49154712'],\n",
       " 'C.1.3.46': ['37800985'],\n",
       " 'C.1.3.16': ['45045161'],\n",
       " 'C.1.3.33': ['31048238', '73705556'],\n",
       " 'C.1.11.27': ['47844531'],\n",
       " 'C.1.11.9': ['99799732'],\n",
       " 'C.1.11.31': ['76337079'],\n",
       " 'C.1.11.46': ['40776009', '6648570'],\n",
       " 'C.1.10.15': ['20894414'],\n",
       " 'C.1.11.23': ['62673487'],\n",
       " 'C.1.3.60': ['7066894'],\n",
       " 'C.1.11.3': ['66020878', '23719144'],\n",
       " 'C.1.11.67': ['92782303'],\n",
       " 'C.1.3.61': ['3767533'],\n",
       " 'C.1.10.64': ['100591208'],\n",
       " 'C.1.11.53': ['39855095']}"
      ]
     },
     "execution_count": 10,
     "metadata": {},
     "output_type": "execute_result"
    }
   ],
   "source": [
    "from knn_search import get_knn_buckets_for_query, evaluate_knn_per_query\n",
    "get_knn_buckets_for_query(df_result, result['id'], knns)"
   ]
  },
  {
   "cell_type": "code",
   "execution_count": 11,
   "metadata": {},
   "outputs": [
    {
     "name": "stdout",
     "output_type": "stream",
     "text": [
      "Evaluating k-NN performance on 2 checkpoints: [575, 1004]\n",
      "C.1.10.64\n",
      "C.1.11.54\n",
      "C.1.11.46\n",
      "N. of knns found: 8 in 9 buckets.\n",
      "C.1.10.64\n",
      "C.1.11.54\n",
      "C.1.11.46\n",
      "C.1.10.41\n",
      "C.1.10.4\n",
      "C.1.11.27\n",
      "N. of knns found: 11 in 15 buckets.\n"
     ]
    },
    {
     "data": {
      "text/plain": [
       "[0.26666666666666666, 0.36666666666666664]"
      ]
     },
     "execution_count": 11,
     "metadata": {},
     "output_type": "execute_result"
    }
   ],
   "source": [
    "evaluate_knn_per_query(result, df_result, knns)"
   ]
  }
 ],
 "metadata": {
  "kernelspec": {
   "display_name": "Python 3",
   "language": "python",
   "name": "python3"
  },
  "language_info": {
   "codemirror_mode": {
    "name": "ipython",
    "version": 3
   },
   "file_extension": ".py",
   "mimetype": "text/x-python",
   "name": "python",
   "nbconvert_exporter": "python",
   "pygments_lexer": "ipython3",
   "version": "3.6.10"
  }
 },
 "nbformat": 4,
 "nbformat_minor": 4
}
